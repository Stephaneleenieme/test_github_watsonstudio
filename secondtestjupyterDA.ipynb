{
    "cells": [
        {
            "cell_type": "code",
            "execution_count": 1,
            "metadata": {},
            "outputs": [
                {
                    "name": "stdout",
                    "output_type": "stream",
                    "text": "+--------------------+--------------------+--------------------+--------------------+--------------------+--------------------+--------------------+------------+----+-------+-----------------+--------+------+-------+-----------+----------+\n|                 _c0|           Job Title|     Salary Estimate|     Job Description|              Rating|        Company Name|            Location|Headquarters|Size|Founded|Type of ownership|Industry|Sector|Revenue|Competitors|Easy Apply|\n+--------------------+--------------------+--------------------+--------------------+--------------------+--------------------+--------------------+------------+----+-------+-----------------+--------+------+-------+-----------+----------+\n|                   0|Data Analyst, Cen...|$37K-$66K (Glassd...|Are you eager to ...|                null|                null|                null|        null|null|   null|             null|    null|  null|   null|       null|      null|\n|We are looking to...|        hard-working| and creative ind...| working across i...|                null|                null|                null|        null|null|   null|             null|    null|  null|   null|       null|      null|\n|         Who we are:|                null|                null|                null|                null|                null|                null|        null|null|   null|             null|    null|  null|   null|       null|      null|\n|     Founded in 1961| The Vera Institu...|        non-partisan| nonprofit organi...| technical assist...| and demonstratio...| and improve the ...|        null|null|   null|             null|    null|  null|   null|       null|      null|\n|We study problems...|                null|                null|                null|                null|                null|                null|        null|null|   null|             null|    null|  null|   null|       null|      null|\n+--------------------+--------------------+--------------------+--------------------+--------------------+--------------------+--------------------+------------+----+-------+-----------------+--------+------+-------+-----------+----------+\nonly showing top 5 rows\n\n"
                },
                {
                    "data": {
                        "text/plain": "configurationName = os_570a2890d6ad483fb1f2d8c689f0af2a_configs\ncos = com.ibm.ibmos2spark.CloudObjectStorage@67cf151\nspark = org.apache.spark.sql.SparkSession@481ab85c\ndfData1 = [_c0: string, Job Title: string ... 14 more fields]\n"
                    },
                    "metadata": {},
                    "output_type": "display_data"
                },
                {
                    "data": {
                        "text/plain": "getCredentials: ()scala.collection.mutable.HashMap[String,String]\n"
                    },
                    "metadata": {},
                    "output_type": "display_data"
                },
                {
                    "data": {
                        "text/plain": "[_c0: string, Job Title: string ... 14 more fields]"
                    },
                    "execution_count": 1,
                    "metadata": {},
                    "output_type": "execute_result"
                }
            ],
            "source": "// The code was removed by Watson Studio for sharing."
        },
        {
            "cell_type": "code",
            "execution_count": null,
            "metadata": {},
            "outputs": [],
            "source": ""
        }
    ],
    "metadata": {
        "kernelspec": {
            "display_name": "Scala 2.11 with Spark",
            "language": "scala",
            "name": "scala"
        },
        "language_info": {
            "codemirror_mode": "text/x-scala",
            "file_extension": ".scala",
            "mimetype": "text/x-scala",
            "name": "scala",
            "pygments_lexer": "scala",
            "version": "2.11.12"
        }
    },
    "nbformat": 4,
    "nbformat_minor": 1
}