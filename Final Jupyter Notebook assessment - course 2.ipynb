{
    "cells": [
        {
            "metadata": {
                "collapsed": true
            },
            "cell_type": "markdown",
            "source": "# This is my Jupyter Notebook with Watson Studio for Assessment"
        },
        {
            "metadata": {},
            "cell_type": "markdown",
            "source": "**St\u00e9phane SINGERY**\n\nCurrent job : Customer Happiness Manager (FoodTech)"
        },
        {
            "metadata": {},
            "cell_type": "markdown",
            "source": "*I'am at the crossroad in my life and I'm interesting in Data Science because I think this way will enable me to obtain the necessary knowledge to launch a personal digital project.*"
        },
        {
            "metadata": {},
            "cell_type": "markdown",
            "source": "### The following code create a list of even (peer) numbers from 1 to 9"
        },
        {
            "metadata": {},
            "cell_type": "code",
            "source": "#create the empty list\nlist = []\n\n#read the number(i) from 1 to 9 (10 is excluded)\nfor i in range (1, 10) : \n    if i % 2 == 0 : #check if the number is even\n        list.append(i) #add the number in the list if it's a even number\n\n#print the list of even numbers\nprint(\"The list of even numbers from 1 to 9 :\", list)",
            "execution_count": 5,
            "outputs": [
                {
                    "output_type": "stream",
                    "text": "The list of even numbers from 1 to 9 : [2, 4, 6, 8]\n",
                    "name": "stdout"
                }
            ]
        },
        {
            "metadata": {},
            "cell_type": "markdown",
            "source": "\n**NAME** | **COUNTRY** | **PASSION**\n--- | --- | ---\nStephane | France | Vinyl\n*Nice* | *to meet* | *you!*\n\n\n\n\n![alt text](https://raw.githubusercontent.com/Stephaneleenieme/test_github_watsonstudio/master/Screenshot%202020-07-28%20at%2012.53.30.png \"Topic of my futur project\")\n\n\n1. A\n2. BIG\n3. THX\n4. FOR\n5. YOUR\n6. TIME\n7. ;-)\n"
        }
    ],
    "metadata": {
        "kernelspec": {
            "name": "python3",
            "display_name": "Python 3.6",
            "language": "python"
        },
        "language_info": {
            "name": "python",
            "version": "3.6.9",
            "mimetype": "text/x-python",
            "codemirror_mode": {
                "name": "ipython",
                "version": 3
            },
            "pygments_lexer": "ipython3",
            "nbconvert_exporter": "python",
            "file_extension": ".py"
        }
    },
    "nbformat": 4,
    "nbformat_minor": 1
}